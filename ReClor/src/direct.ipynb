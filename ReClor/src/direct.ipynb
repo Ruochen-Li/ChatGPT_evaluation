{
 "cells": [
  {
   "cell_type": "code",
   "execution_count": 9,
   "metadata": {},
   "outputs": [],
   "source": [
    "import numpy as np\n",
    "import os\n",
    "import pandas as pd\n",
    "import json\n",
    "import sys\n",
    "import regex as re\n",
    "import openai\n",
    "import time"
   ]
  },
  {
   "cell_type": "code",
   "execution_count": 10,
   "metadata": {},
   "outputs": [],
   "source": [
    "DATA_FOLDER = \"../data\""
   ]
  },
  {
   "cell_type": "code",
   "execution_count": 11,
   "metadata": {},
   "outputs": [],
   "source": [
    "def load_file(fname):\n",
    "    with open(os.path.join(DATA_FOLDER, fname), 'r') as f:\n",
    "        return json.load(f)"
   ]
  },
  {
   "cell_type": "code",
   "execution_count": 12,
   "metadata": {},
   "outputs": [],
   "source": [
    "test = load_file(\"test.json\")\n",
    "train = load_file(\"train.json\")\n",
    "val = load_file(\"val.json\")"
   ]
  },
  {
   "cell_type": "code",
   "execution_count": 13,
   "metadata": {},
   "outputs": [
    {
     "data": {
      "text/plain": [
       "{'context': 'Negotiations between the union and the trucking industry will not resume unless one or the other of these parties agrees to make concessions. The trucking industry will not make any concessions without certain prior concessions being made by the union, and the union will make concessions only if the government agrees to act as mediator.',\n",
       " 'question': 'If the statements above are true, which one of the following must also be true on the basis of them?',\n",
       " 'answers': ['If the union makes concessions, then the trucking industry will also make concessions.',\n",
       "  'Differences between the union and the trucking industry will be successfully negotiated if the government agrees to act as mediator.',\n",
       "  'Negotiations between the union and the trucking industry will not resume.',\n",
       "  'Negotiations between the union and the trucking industry will not resume unless the government agrees to act as mediator.'],\n",
       " 'question_type': 5,\n",
       " 'id_string': 'test_0'}"
      ]
     },
     "execution_count": 13,
     "metadata": {},
     "output_type": "execute_result"
    }
   ],
   "source": [
    "test[0]"
   ]
  },
  {
   "cell_type": "code",
   "execution_count": 14,
   "metadata": {},
   "outputs": [
    {
     "data": {
      "text/plain": [
       "{'context': \"In rheumatoid arthritis, the body' s immune system misfunctions by attacking healthy cells in the joints causing the release of a hormone that in turn causes pain and swelling. This hormone is normally activated only in reaction to injury or infection. A new arthritis medication will contain a protein that inhibits the functioning of the hormone that causes pain and swelling in the joints.\",\n",
       " 'question': 'The statements above, if true, most strongly support which one of the following conclusions?',\n",
       " 'answers': ['Unlike aspirin and other medications that reduce pain and swelling and that are currently available, the new medication would repair existing cell damage that had been caused by rheumatoid arthritis.',\n",
       "  'A patient treated with the new medication for rheumatoid arthritis could sustain a joint injury without becoming aware of it.',\n",
       "  'Joint diseases other than rheumatoid arthritis would not be affected by the new medication.',\n",
       "  \"The benefits to rheumatoid arthritis sufferers of the new medication would outweigh the medication's possible harmful side effects.\"],\n",
       " 'label': 1,\n",
       " 'id_string': 'train_0'}"
      ]
     },
     "execution_count": 14,
     "metadata": {},
     "output_type": "execute_result"
    }
   ],
   "source": [
    "train[0]"
   ]
  },
  {
   "cell_type": "code",
   "execution_count": 7,
   "metadata": {},
   "outputs": [
    {
     "name": "stdout",
     "output_type": "stream",
     "text": [
      "train_0 The statements above, if true, most strongly support which one of the following conclusions?\n",
      "train_1 The patient's argument proceeds by\n",
      "train_2 The pattern of reasoning displayed above most closely parallels which of the following?\n",
      "train_3 The argument's conclusion follows logically if which one of the following is assumed?\n",
      "train_4 If the shipping clerk's statements are true, which of the following must also be true?\n",
      "train_5 If, on the basis of the evidence above, it is argued that PRP contracts increase worker productivity, which of the following, if true, would most seriously weaken that argument?\n",
      "train_6 Which one of the following, if true, most weakens the astronomer's argument?\n",
      "train_7 Which one of the following, if true, most strengthens the argument?\n",
      "train_8 Each of the following, if true, could explain the decrease described above EXCEPT:\n",
      "train_9 If the statements above are true, which one of the following must also be true?\n",
      "train_10 Which one of the following, if true, most weakens the detective's argument?\n",
      "train_11 The reasoning in the biologist's argument is most vulnerable to criticism on the grounds that the argument\n",
      "train_12 The reasoning above most closely conforms to which one of the following principles?\n",
      "train_13 Which one of the following is an assumption required by the department store manager's argument?\n",
      "train_14 Each of the following, if true, could help to explain the differing average lengths of visits to the museum EXCEPT:\n",
      "train_15 Which of the following, if true, casts the most serious doubt on the traveler's argument?\n",
      "train_16 Which one of the following would be most useful to know in order to evaluate the argument?\n",
      "train_17 Which one of the following can be properly inferred from the passage?\n",
      "train_18 Which one of the following is an assumption on which the argument of the environmentalist depends?\n",
      "train_19 The argument assumes which one of the following?\n",
      "train_20 What is the argument's primary purpose?\n",
      "train_21 Keisha responds to Tony's argument in which one of the following ways?\n",
      "train_22 In the journalist's argument, the two boldfaced portions play which of the following roles?\n",
      "train_23 Which one of the following is a statement that Leona could offer Thomas to clarify her own claim and to address the point he has made?\n",
      "train_24 Which one of the following is an assumption required by the argument?\n",
      "train_25 Which one of the following summer weather reports most closely conforms to the principles stated above?\n",
      "train_26 In evaluating the argument, it would be most important to determine which of the following?\n",
      "train_27 The conclusion follows logically if which one of the following is assumed?\n",
      "train_28 Which one of the following, if true, most seriously weakens the argument above?\n",
      "train_29 Which one of the following most closely conforms to the principle illustrated above?\n",
      "train_30 The reasoning in the argument is flawed because the argument\n",
      "train_31 Which of the following most logically completes the argument?\n",
      "train_32 Which one of the following would, if true, help most to resolve the apparent paradox described above?\n",
      "train_33 The conclusion of the argument follows logically if which one of the following is assumed?\n",
      "train_34 The reasoning of the argument above is questionable because the argument\n",
      "train_35 The argument's conclusion follows logically if which one of the following is assumed?\n",
      "train_36 The argument above logically depends on which of the following assumptions?\n",
      "train_37 Dario and Cynthia disagree over whether\n",
      "train_38 The reasoning in Bardis's argument is flawed because that argument\n",
      "train_39 Which of the following, if true, would argue against the proposal above?\n",
      "train_40 Upon which one of the following assumptions does the author's argument rely?\n",
      "train_41 The argument criticizing the newspaper article is directed toward establishing which one of the following as its main conclusion?\n",
      "train_42 What mistake does the argument commit in its reasoning?\n",
      "train_43 The politician's recommendation most closely conforms to which one of the following principles?\n",
      "train_44 Which one of the following conclusions can be validly drawn from the passage?\n",
      "train_45 The statements above, if true, most strongly support which one of the following claims?\n",
      "train_46 Which of the following, if true, casts most doubt on the department head's conclusion?\n",
      "train_47 The reasoning in the argument above is most closely paralleled by that in which one of the following?\n",
      "train_48 The argument assumes which one of the following?\n",
      "train_49 Which one of the following can be properly concluded from the information above, together with the fact that in the first quarter for which the program was used, some employers in X issued separate paychecks for the regular hours an employee worked, for the employee's overtime, and for bonuses and commissions?\n",
      "train_50 Which of the following is an assumption on which the argument depends?\n",
      "train_51 Which one of the following, if true, most weakens the argument?\n",
      "train_52 Which one of the following, if true, would most strengthen the archaeologist's argument?\n",
      "train_53 The answer to which one of the following questions is most relevant to evaluating the conclusion drawn above?\n",
      "train_54 Debbie attempts to counter Carl' s argument by\n",
      "train_55 Which one of the following logically follows from the literary historian's claims?\n",
      "train_56 Which one of the following most logically completes the argument?\n",
      "train_57 If all of the statements in the passage above are true, which one of the following must also be true?\n",
      "train_58 The reasoning in the argument is most vulnerable to criticism on the grounds that it\n",
      "train_59 Which of the following, if true, most weakens the argument above?\n",
      "train_60 Which one of the following, if true, most helps to explain this preference?\n",
      "train_61 Which one of the following is an assumption on which the argument depends?\n",
      "train_62 Which one of the following most accurately expresses the overall conclusion drawn in the argument?\n",
      "train_63 The conclusion of the argument follows logically if which one of the following is assumed?\n",
      "train_64 In the argument given, the two portions in boldface play which of the following roles?\n",
      "train_65 The main point made in Kim's argument is that\n",
      "train_66 Which one of the following, if true, most strengthens the argument?\n",
      "train_67 Which of the following, if performed by the government, could logically be expected to overcome the problem with the plan to limit the spread of this virus in the Bluetail Moonbeam?\n",
      "train_68 Which one of the following, if true, most seriously weakens the argument?\n",
      "train_69 Which one of the following can be logically inferred from the passage?\n",
      "train_70 Which of the following, if true, most seriously weakens the argument?\n",
      "train_71 The argument above makes which one of the following assumptions?\n",
      "train_72 The point at issue between Wirth and Chang is whether\n",
      "train_73 The pattern of reasoning exhibited by which one of the following arguments is most similar to that exhibited by the argument above?\n",
      "train_74 The reasoning in Beck's argument is flawed in that it\n",
      "train_75 The reasoning in the researcher's argument is flawed because the argument fails to consider that\n",
      "train_76 Which one of the following statements, if true, casts doubt on the argument?\n",
      "train_77 The flawed pattern of reasoning in the argument above is most similar to that in which one of the following?\n",
      "train_78 Which one of the following is an assumption required by the argument?\n",
      "train_79 The conclusion is properly drawn if which one of the following is assumed?\n",
      "train_80 Which of the following strategies would be most likely to minimize Company X's losses on the policies?\n",
      "train_81 Which one of the following is a principle that, if valid, most helps to justify the restaurant critic's reasoning?\n",
      "train_82 Which one of the following generalizations is most clearly illustrated by the passage?\n",
      "train_83 Which one of the following, if true, most helps to resolve the apparent discrepancy in the statements above?\n",
      "train_84 The reasoning above is flawed because it\n",
      "train_85 Which of the following, if true, most helps to explain the apparent inconsistency in the results of the library's policy?\n",
      "train_86 Which of the following is an assumption on which the argument depends?\n",
      "train_87 Which one of the following, if true, most helps to resolve the apparent discrepancy in the information above?\n",
      "train_88 The statements above, if true, support which one of the following inferences?\n",
      "train_89 Which one of the following, if true, most seriously weakens the editorial's argument?\n",
      "train_90 The conclusion of the argument is most strongly supported if which one of the following is assumed?\n",
      "train_91 Which one of the following, if true, most seriously weakens the argument?\n",
      "train_92 Which of the following investigations is most likely to yield significant information that would help evaluate the researcher's hypothesis?\n",
      "train_93 Which one of the following, if true, would provide the most support for the economists' assertion?\n",
      "train_94 Each of the following, if true, provides support for the critique above EXCEPT:\n",
      "train_95 Which of the following most logically completes the argument?\n",
      "train_96 The statements above, if true, most strongly support which one of the following?\n",
      "train_97 The art critic's argument depends on the assumption that\n",
      "train_98 Which one of the following, if true, would most help to explain the difference in fuel requirements?\n",
      "train_99 The statement that considerations as remote as what an offender did years ago are relevant to the seriousness of an offense plays which one of the following roles in the argument?\n"
     ]
    }
   ],
   "source": [
    "for td in train[:100]:\n",
    "    print(td['id_string'], td['question'])"
   ]
  },
  {
   "cell_type": "code",
   "execution_count": 15,
   "metadata": {},
   "outputs": [],
   "source": [
    "train_ixs = [0, 1, 2, 3, 6, 7, 8, 12, 16, 20, 22, 32]"
   ]
  },
  {
   "cell_type": "code",
   "execution_count": 19,
   "metadata": {},
   "outputs": [
    {
     "name": "stdout",
     "output_type": "stream",
     "text": [
      "Context: In rheumatoid arthritis, the body' s immune system misfunctions by attacking healthy cells in the joints causing the release of a hormone that in turn causes pain and swelling. This hormone is normally activated only in reaction to injury or infection. A new arthritis medication will contain a protein that inhibits the functioning of the hormone that causes pain and swelling in the joints.\n",
      "Question: The statements above, if true, most strongly support which one of the following conclusions?\n",
      "Answer Options:\n",
      "A : Unlike aspirin and other medications that reduce pain and swelling and that are currently available, the new medication would repair existing cell damage that had been caused by rheumatoid arthritis.\n",
      "B : A patient treated with the new medication for rheumatoid arthritis could sustain a joint injury without becoming aware of it.\n",
      "C : Joint diseases other than rheumatoid arthritis would not be affected by the new medication.\n",
      "D : The benefits to rheumatoid arthritis sufferers of the new medication would outweigh the medication's possible harmful side effects.\n",
      "Correct Answer: B\n",
      "<stop>\n",
      "Context: Patient: Pharmacists maintain that doctors should not be permitted to sell the medicine that they prescribe because doctors would then be tempted to prescribe unnecessary medicines in order to earn extra income. But pharmacists have a financial interest in having a monopoly on the sale of prescription medicines, so their objection to the sale of medicines by doctors cannot be taken seriously.\n",
      "Question: The patient's argument proceeds by\n",
      "Answer Options:\n",
      "A : attempting to discredit a position by questioning the motives of the proponents of that position\n",
      "B : rejecting a questionable position on the grounds that the general public does not support that position\n",
      "C : pointing out an unstated assumption on which the pharmacists' argument relies and then refuting it\n",
      "D : asserting that pharmacists lack the appropriate knowledge to have informed opinions on the subject under discussion\n",
      "Correct Answer: A\n",
      "<stop>\n",
      "Context: Paula will visit the dentist tomorrow morning only if Bill goes golfing in the morning. Bill will not go golfing unless Damien agrees to go golfing too. However, Damien has decided not to go golfing. Ttherefore, Paula will not be visiting the dentist tomorrow morning.\n",
      "Question: The pattern of reasoning displayed above most closely parallels which of the following?\n",
      "Answer Options:\n",
      "A : If Marge goes to the bank today, Lauren will not cash her check tomorrow. Marge will not wash her car unless it is sunny. However, it is sunny, so Marge will wash her car and go shopping with Lauren.\n",
      "B : Kevin will wash his car tomorrow only if Brittany has to go visit her grandmother. Unless Aunt Susan has to run errands, Brittany will not have to go visit her grandmother. Since Aunt Susan does not have to run errands, Kevin will not wash his car tomorrow.\n",
      "C : Renee will do her homework tonight if there is nothing good on television and if her neighbors do not have a party. Although, there is something good on television; her neighbors are also having a party. Ttherefore, Renee will attend the party.\n",
      "D : Maddie will plan a picnic only if one of her friends, Lisa or Kenny, will come. Kenny will not come to the picnic, but Lisa will. Ttherefore, Maddie will plan a picnic.\n",
      "Correct Answer: B\n",
      "<stop>\n",
      "Context: Some theorists argue that literary critics should strive to be value-neutral in their literary criticism. These theorists maintain that by exposing the meaning of literary works without evaluating them, critics will enable readers to make their own judgments about the works' merits. But literary criticism cannot be completely value-neutral. Thus, some theorists are mistaken about what is an appropriate goal for literary criticism.\n",
      "Question: The argument's conclusion follows logically if which one of the following is assumed?\n",
      "Answer Options:\n",
      "A : Any critic who is able to help readers make their own judgments about literary works' merits should strive to produce value-neutral criticism.\n",
      "B : If it is impossible to produce completely value- neutral literary criticism, then critics should not even try to be value-neutral.\n",
      "C : The less readers understand the meaning of a literary work, the less capable they will be of evaluating that work's merits.\n",
      "D : Critics are more likely to provide criticisms of the works they like than to provide criticisms of the works they dislike.\n",
      "Correct Answer: B\n",
      "<stop>\n",
      "Context: Astronomer: Mount Shalko is the perfect site for the proposed astronomical observatory. The summit would accommodate the complex as currently designed, with some room left for expansion. There are no large cities near the mountain, so neither smog nor artificial light interferes with atmospheric transparency. Critics claim that Mount Shalko is a unique ecological site, but the observatory need not be a threat to endemic life-forms. In fact, since it would preclude recreational use of the mountain, it should be their salvation. It is estimated that 20, 000 recreational users visit the mountain every year, posing a threat to the wildlife.\n",
      "Question: Which one of the following, if true, most weakens the astronomer's argument?\n",
      "Answer Options:\n",
      "A : More than a dozen insect and plant species endemic to Mount Shalko are found nowhere else on earth.\n",
      "B : The building of the observatory would not cause the small towns near Mount Shalko eventually to develop into a large city, complete with smog, bright lights, and an influx of recreation seekers.\n",
      "C : A survey conducted by a team of park rangers concluded that two other mountains in the same general area have more potential for recreational use than Mount Shalko.\n",
      "D : Having a complex that covers most of the summit, as well as having the necessary security fences and access road on the mountain, could involve just as much ecological disruption as does the current level of recreational use.\n",
      "Correct Answer: D\n",
      "<stop>\n",
      "Context: Opponents of peat harvesting in this country argue that it would alter the ecological balance of our peatrich wetlands and that, as a direct consequence of this, much of the country' s water supply would be threatened with contamination. But this cannot be true, for in Ireland, where peat has been harvested for centuries, the water supply is not contaminated. We can safely proceed with the harvesting of peat.\n",
      "Question: Which one of the following, if true, most strengthens the argument?\n",
      "Answer Options:\n",
      "A : The peat-harvesting industry of Ireland has been able to supply most of that country's fuel for generations.\n",
      "B : The original ecology of the peat-harvesting areas of Ireland was virtually identical to that of the undisturbed wetlands of this country.\n",
      "C : Over hundreds of years, the ecological balance of all areas changes slowly but significantly, sometimes to the advantage of certain flora and fauna.\n",
      "D : The activities of other industries in coming years are likely to have adverse effects on the water supply of this country.\n",
      "Correct Answer: B\n",
      "<stop>\n",
      "Context: Shortly after the power plant opened and began discharging its wastewater into the river, there was a decrease in the overall number of bass caught by anglers downstream from the plant.\n",
      "Question: Each of the following, if true, could explain the decrease described above EXCEPT:\n",
      "Answer Options:\n",
      "A : The discharged water was warmer than the normal river temperature, leading the bass to seek cooler water elsewhere.\n",
      "B : Because of the new plant, access to the part of the river downstream from the plant was improved, leading to an increase in the number of anglers fishing for bass.\n",
      "C : Because of the new plant, the level of noise downstream increased, making that section of the river a less popular place for anglers to fish.\n",
      "D : The discharged wastewater made the river more attractive to fish that are the natural predators of bass.\n",
      "Correct Answer: B\n",
      "<stop>\n",
      "Context: The use of space-based satellites to study environmental conditions on Earth is an important development in the conservation movement' s history. Environmental problems may now be observed long before they otherwise would be noticed, allowing for intervention before they reach the crisis stage. It is no wonder that environmentalists fail to consider both that spacecraft may damage the ozone layer and that this damage could be serious enough to warrant discontinuing spaceflight.\n",
      "Question: The reasoning above most closely conforms to which one of the following principles?\n",
      "Answer Options:\n",
      "A : People tend to ignore possible objectionable consequences of actions that support their activities.\n",
      "B : Attempts to employ technology often have unforeseen consequences that may be negative.\n",
      "C : Technology usually has at least some negative impact on the environment, even if it is largely beneficial.\n",
      "D : A negative consequence of an activity may be outweighed by its great positive consequences.\n",
      "Correct Answer: A\n",
      "<stop>\n",
      "Context: In a study, pairs of trained dogs were placed side by side and given a command such as \"sit. \" After both obeyed the command, one dog was given a treat while its partner was given no reward at all. Over time, the dogs who went unrewarded began to disobey the command. This shows that dogs have an aversion to being treated unfairly.\n",
      "Question: Which one of the following would be most useful to know in order to evaluate the argument?\n",
      "Answer Options:\n",
      "A : Were dogs who were accustomed to receiving regular rewards prior to the study more inclined to obey the command?\n",
      "B : How many repetitions were required before the unrewarded dogs began to disobey the command?\n",
      "C : Is there a decline in obedience if rewards are withheld from both dogs in the pair?\n",
      "D : Were dogs who received treats in one trial ever used as dogs that did not receive treats in other trials?\n",
      "Correct Answer: C\n",
      "<stop>\n",
      "Context: Life on Earth depends on water. Unfortunately, water is the world' s most threatened natural resource as a result of unrelenting pollution. In the near future, wars will be fought over clean drinking water, as climate change reduces the amount of potable water and pollution taints the drinking water. However, this trend can be broken. Citizens around the globe can aggressively lobby their governments to invest in sustainable energy sources, cleanup polluted waterways, and implement regulations to prevent commercial dumping. Citizens can also have a lasting impact by recycling and taking other steps to reduce their household' s biological footprint. As long as citizens actively respond, then the crisis can be mitigated.\n",
      "Question: What is the argument's primary purpose?\n",
      "Answer Options:\n",
      "A : To criticize the status quo in government.\n",
      "B : To spur activism amongst citizens.\n",
      "C : To inform citizens about the consequences of continued pollution.\n",
      "D : To promote the benefits of recycling.\n",
      "Correct Answer: B\n",
      "<stop>\n",
      "Context: Journalist: <b> Every election year at this time the state government releases the financial disclosures that potential candidates must make in order to be eligible to run for office. </b> Among those making the required financial disclosure this year is a prominent local businessman, Arnold Bergeron. There has often been talk in the past of Mr. Bergeron' s running for governor, not least from Mr. Bergeron himself. <b> This year it is likely he finally will </b>, since those who have discounted the possibility of a Bergeron candidacy have always pointed to the necessity of making financial disclosure as the main obstacle to such a candidacy.\n",
      "Question: In the journalist's argument, the two boldfaced portions play which of the following roles?\n",
      "Answer Options:\n",
      "A : Each provides evidence in support of an intermediate conclusion that supports a further conclusion stated in the argument.\n",
      "B : The first provides information without which the argument lacks force; the second states an intermediate conclusion that is used to support a further conclusion.\n",
      "C : The first provides information without which the argument lacks force; the second states the main conclusion of the argument.\n",
      "D : The first states evidence bearing against the main conclusion of the argument; the second states that conclusion.\n",
      "Correct Answer: C\n",
      "<stop>\n",
      "Context: Adjusted for inflation, the income earned from wool sales by a certain family of Australian sheep farmers grew substantially during the period from 1840 to I860. This is because the price for wool sold on the international market was higher than the price paid on domestic markets and the percentage and amount of its wool that this family sold internationally increased dramatically during that period. But even though the family generated more income from selling their wool, they failed to enjoy a commensurate increase in prosperity.\n",
      "Question: Which one of the following would, if true, help most to resolve the apparent paradox described above?\n",
      "Answer Options:\n",
      "A : The prices of wool sold to domestic markets by Australian sheep farmers decreased dramatically during the period in question.\n",
      "B : At the end of the 1800s, prices in general in Australia rose more rapidly than did the wholesale price of wool sold domestically.\n",
      "C : Competition in wool sales increased during the period in question, leaving Australian wool producers in a less favorable position than previously.\n",
      "D : The international and domestic prices for mutton, sheepskins, and certain other products produced by all Australian sheep farmers fell sharply during the period in question.\n",
      "Correct Answer: D\n",
      "<stop>\n"
     ]
    }
   ],
   "source": [
    "Options = ['A', 'B', 'C', 'D']\n",
    "for ix in train_ixs:\n",
    "    print('Context:',train[ix]['context'])\n",
    "    print('Question:',train[ix]['question'])\n",
    "    print('Answer Options:')\n",
    "    for i, opt in enumerate(train[ix]['answers']):\n",
    "        print(Options[i], ':', opt)\n",
    "    \n",
    "    print('Correct Answer:', Options[train[ix]['label']])\n",
    "    print('<stop>')"
   ]
  },
  {
   "cell_type": "code",
   "execution_count": 20,
   "metadata": {},
   "outputs": [],
   "source": [
    "def train_dp_to_prompt(td):\n",
    "    prompt = \"\"\n",
    "    prompt+= \"Context: \" + td['context'] + \"\\n\"\n",
    "    prompt+= \"Question: \" + td['question'] + \"\\n\"\n",
    "    prompt+= \"Options:\\n\"\n",
    "    for i, ans in enumerate(td['answers']):\n",
    "        prompt+= Options[i]+' : ' + ans + \"\\n\"\n",
    "    prompt+= \"Correct Answer: \" + Options[td['label']] + \"\\n\"\n",
    "    prompt+= \"<stop>\\n\"\n",
    "    return prompt"
   ]
  },
  {
   "cell_type": "code",
   "execution_count": 21,
   "metadata": {},
   "outputs": [],
   "source": [
    "def test_dp_to_prompt(td):\n",
    "    prompt = \"\"\n",
    "    prompt+= \"Context: \" + td['context'] + \"\\n\"\n",
    "    prompt+= \"Question: \" + td['question'] + \"\\n\"\n",
    "    prompt+= \"Answer Options:\\n\"\n",
    "    for i, ans in enumerate(td['answers']):\n",
    "        prompt+= Options[i] + \" : \" + ans + \"\\n\"\n",
    "    return prompt"
   ]
  },
  {
   "cell_type": "code",
   "execution_count": 22,
   "metadata": {},
   "outputs": [
    {
     "name": "stdout",
     "output_type": "stream",
     "text": [
      "Context: In rheumatoid arthritis, the body' s immune system misfunctions by attacking healthy cells in the joints causing the release of a hormone that in turn causes pain and swelling. This hormone is normally activated only in reaction to injury or infection. A new arthritis medication will contain a protein that inhibits the functioning of the hormone that causes pain and swelling in the joints.\n",
      "Question: The statements above, if true, most strongly support which one of the following conclusions?\n",
      "Options:\n",
      "A : Unlike aspirin and other medications that reduce pain and swelling and that are currently available, the new medication would repair existing cell damage that had been caused by rheumatoid arthritis.\n",
      "B : A patient treated with the new medication for rheumatoid arthritis could sustain a joint injury without becoming aware of it.\n",
      "C : Joint diseases other than rheumatoid arthritis would not be affected by the new medication.\n",
      "D : The benefits to rheumatoid arthritis sufferers of the new medication would outweigh the medication's possible harmful side effects.\n",
      "Correct Answer: B\n",
      "<stop>\n",
      "\n",
      "Context: Patient: Pharmacists maintain that doctors should not be permitted to sell the medicine that they prescribe because doctors would then be tempted to prescribe unnecessary medicines in order to earn extra income. But pharmacists have a financial interest in having a monopoly on the sale of prescription medicines, so their objection to the sale of medicines by doctors cannot be taken seriously.\n",
      "Question: The patient's argument proceeds by\n",
      "Options:\n",
      "A : attempting to discredit a position by questioning the motives of the proponents of that position\n",
      "B : rejecting a questionable position on the grounds that the general public does not support that position\n",
      "C : pointing out an unstated assumption on which the pharmacists' argument relies and then refuting it\n",
      "D : asserting that pharmacists lack the appropriate knowledge to have informed opinions on the subject under discussion\n",
      "Correct Answer: A\n",
      "<stop>\n",
      "\n",
      "Context: Paula will visit the dentist tomorrow morning only if Bill goes golfing in the morning. Bill will not go golfing unless Damien agrees to go golfing too. However, Damien has decided not to go golfing. Ttherefore, Paula will not be visiting the dentist tomorrow morning.\n",
      "Question: The pattern of reasoning displayed above most closely parallels which of the following?\n",
      "Options:\n",
      "A : If Marge goes to the bank today, Lauren will not cash her check tomorrow. Marge will not wash her car unless it is sunny. However, it is sunny, so Marge will wash her car and go shopping with Lauren.\n",
      "B : Kevin will wash his car tomorrow only if Brittany has to go visit her grandmother. Unless Aunt Susan has to run errands, Brittany will not have to go visit her grandmother. Since Aunt Susan does not have to run errands, Kevin will not wash his car tomorrow.\n",
      "C : Renee will do her homework tonight if there is nothing good on television and if her neighbors do not have a party. Although, there is something good on television; her neighbors are also having a party. Ttherefore, Renee will attend the party.\n",
      "D : Maddie will plan a picnic only if one of her friends, Lisa or Kenny, will come. Kenny will not come to the picnic, but Lisa will. Ttherefore, Maddie will plan a picnic.\n",
      "Correct Answer: B\n",
      "<stop>\n",
      "\n",
      "Context: Some theorists argue that literary critics should strive to be value-neutral in their literary criticism. These theorists maintain that by exposing the meaning of literary works without evaluating them, critics will enable readers to make their own judgments about the works' merits. But literary criticism cannot be completely value-neutral. Thus, some theorists are mistaken about what is an appropriate goal for literary criticism.\n",
      "Question: The argument's conclusion follows logically if which one of the following is assumed?\n",
      "Options:\n",
      "A : Any critic who is able to help readers make their own judgments about literary works' merits should strive to produce value-neutral criticism.\n",
      "B : If it is impossible to produce completely value- neutral literary criticism, then critics should not even try to be value-neutral.\n",
      "C : The less readers understand the meaning of a literary work, the less capable they will be of evaluating that work's merits.\n",
      "D : Critics are more likely to provide criticisms of the works they like than to provide criticisms of the works they dislike.\n",
      "Correct Answer: B\n",
      "<stop>\n",
      "\n",
      "Context: Astronomer: Mount Shalko is the perfect site for the proposed astronomical observatory. The summit would accommodate the complex as currently designed, with some room left for expansion. There are no large cities near the mountain, so neither smog nor artificial light interferes with atmospheric transparency. Critics claim that Mount Shalko is a unique ecological site, but the observatory need not be a threat to endemic life-forms. In fact, since it would preclude recreational use of the mountain, it should be their salvation. It is estimated that 20, 000 recreational users visit the mountain every year, posing a threat to the wildlife.\n",
      "Question: Which one of the following, if true, most weakens the astronomer's argument?\n",
      "Options:\n",
      "A : More than a dozen insect and plant species endemic to Mount Shalko are found nowhere else on earth.\n",
      "B : The building of the observatory would not cause the small towns near Mount Shalko eventually to develop into a large city, complete with smog, bright lights, and an influx of recreation seekers.\n",
      "C : A survey conducted by a team of park rangers concluded that two other mountains in the same general area have more potential for recreational use than Mount Shalko.\n",
      "D : Having a complex that covers most of the summit, as well as having the necessary security fences and access road on the mountain, could involve just as much ecological disruption as does the current level of recreational use.\n",
      "Correct Answer: D\n",
      "<stop>\n",
      "\n",
      "Context: Opponents of peat harvesting in this country argue that it would alter the ecological balance of our peatrich wetlands and that, as a direct consequence of this, much of the country' s water supply would be threatened with contamination. But this cannot be true, for in Ireland, where peat has been harvested for centuries, the water supply is not contaminated. We can safely proceed with the harvesting of peat.\n",
      "Question: Which one of the following, if true, most strengthens the argument?\n",
      "Options:\n",
      "A : The peat-harvesting industry of Ireland has been able to supply most of that country's fuel for generations.\n",
      "B : The original ecology of the peat-harvesting areas of Ireland was virtually identical to that of the undisturbed wetlands of this country.\n",
      "C : Over hundreds of years, the ecological balance of all areas changes slowly but significantly, sometimes to the advantage of certain flora and fauna.\n",
      "D : The activities of other industries in coming years are likely to have adverse effects on the water supply of this country.\n",
      "Correct Answer: B\n",
      "<stop>\n",
      "\n",
      "Context: Shortly after the power plant opened and began discharging its wastewater into the river, there was a decrease in the overall number of bass caught by anglers downstream from the plant.\n",
      "Question: Each of the following, if true, could explain the decrease described above EXCEPT:\n",
      "Options:\n",
      "A : The discharged water was warmer than the normal river temperature, leading the bass to seek cooler water elsewhere.\n",
      "B : Because of the new plant, access to the part of the river downstream from the plant was improved, leading to an increase in the number of anglers fishing for bass.\n",
      "C : Because of the new plant, the level of noise downstream increased, making that section of the river a less popular place for anglers to fish.\n",
      "D : The discharged wastewater made the river more attractive to fish that are the natural predators of bass.\n",
      "Correct Answer: B\n",
      "<stop>\n",
      "\n",
      "Context: The use of space-based satellites to study environmental conditions on Earth is an important development in the conservation movement' s history. Environmental problems may now be observed long before they otherwise would be noticed, allowing for intervention before they reach the crisis stage. It is no wonder that environmentalists fail to consider both that spacecraft may damage the ozone layer and that this damage could be serious enough to warrant discontinuing spaceflight.\n",
      "Question: The reasoning above most closely conforms to which one of the following principles?\n",
      "Options:\n",
      "A : People tend to ignore possible objectionable consequences of actions that support their activities.\n",
      "B : Attempts to employ technology often have unforeseen consequences that may be negative.\n",
      "C : Technology usually has at least some negative impact on the environment, even if it is largely beneficial.\n",
      "D : A negative consequence of an activity may be outweighed by its great positive consequences.\n",
      "Correct Answer: A\n",
      "<stop>\n",
      "\n",
      "Context: In a study, pairs of trained dogs were placed side by side and given a command such as \"sit. \" After both obeyed the command, one dog was given a treat while its partner was given no reward at all. Over time, the dogs who went unrewarded began to disobey the command. This shows that dogs have an aversion to being treated unfairly.\n",
      "Question: Which one of the following would be most useful to know in order to evaluate the argument?\n",
      "Options:\n",
      "A : Were dogs who were accustomed to receiving regular rewards prior to the study more inclined to obey the command?\n",
      "B : How many repetitions were required before the unrewarded dogs began to disobey the command?\n",
      "C : Is there a decline in obedience if rewards are withheld from both dogs in the pair?\n",
      "D : Were dogs who received treats in one trial ever used as dogs that did not receive treats in other trials?\n",
      "Correct Answer: C\n",
      "<stop>\n",
      "\n",
      "Context: Life on Earth depends on water. Unfortunately, water is the world' s most threatened natural resource as a result of unrelenting pollution. In the near future, wars will be fought over clean drinking water, as climate change reduces the amount of potable water and pollution taints the drinking water. However, this trend can be broken. Citizens around the globe can aggressively lobby their governments to invest in sustainable energy sources, cleanup polluted waterways, and implement regulations to prevent commercial dumping. Citizens can also have a lasting impact by recycling and taking other steps to reduce their household' s biological footprint. As long as citizens actively respond, then the crisis can be mitigated.\n",
      "Question: What is the argument's primary purpose?\n",
      "Options:\n",
      "A : To criticize the status quo in government.\n",
      "B : To spur activism amongst citizens.\n",
      "C : To inform citizens about the consequences of continued pollution.\n",
      "D : To promote the benefits of recycling.\n",
      "Correct Answer: B\n",
      "<stop>\n",
      "\n",
      "Context: Journalist: <b> Every election year at this time the state government releases the financial disclosures that potential candidates must make in order to be eligible to run for office. </b> Among those making the required financial disclosure this year is a prominent local businessman, Arnold Bergeron. There has often been talk in the past of Mr. Bergeron' s running for governor, not least from Mr. Bergeron himself. <b> This year it is likely he finally will </b>, since those who have discounted the possibility of a Bergeron candidacy have always pointed to the necessity of making financial disclosure as the main obstacle to such a candidacy.\n",
      "Question: In the journalist's argument, the two boldfaced portions play which of the following roles?\n",
      "Options:\n",
      "A : Each provides evidence in support of an intermediate conclusion that supports a further conclusion stated in the argument.\n",
      "B : The first provides information without which the argument lacks force; the second states an intermediate conclusion that is used to support a further conclusion.\n",
      "C : The first provides information without which the argument lacks force; the second states the main conclusion of the argument.\n",
      "D : The first states evidence bearing against the main conclusion of the argument; the second states that conclusion.\n",
      "Correct Answer: C\n",
      "<stop>\n",
      "\n",
      "Context: Adjusted for inflation, the income earned from wool sales by a certain family of Australian sheep farmers grew substantially during the period from 1840 to I860. This is because the price for wool sold on the international market was higher than the price paid on domestic markets and the percentage and amount of its wool that this family sold internationally increased dramatically during that period. But even though the family generated more income from selling their wool, they failed to enjoy a commensurate increase in prosperity.\n",
      "Question: Which one of the following would, if true, help most to resolve the apparent paradox described above?\n",
      "Options:\n",
      "A : The prices of wool sold to domestic markets by Australian sheep farmers decreased dramatically during the period in question.\n",
      "B : At the end of the 1800s, prices in general in Australia rose more rapidly than did the wholesale price of wool sold domestically.\n",
      "C : Competition in wool sales increased during the period in question, leaving Australian wool producers in a less favorable position than previously.\n",
      "D : The international and domestic prices for mutton, sheepskins, and certain other products produced by all Australian sheep farmers fell sharply during the period in question.\n",
      "Correct Answer: D\n",
      "<stop>\n",
      "\n"
     ]
    }
   ],
   "source": [
    "train_prompt = \"\\n\".join([train_dp_to_prompt(train[i]) for i in train_ixs])\n",
    "print(train_prompt)"
   ]
  },
  {
   "cell_type": "code",
   "execution_count": 23,
   "metadata": {},
   "outputs": [],
   "source": [
    "def gen_answer_direct(prompt):\n",
    "    response = openai.ChatCompletion.create(\n",
    "        model=\"gpt-3.5-turbo\",\n",
    "        messages = [\n",
    "            {\"role\": \"system\", \"content\": \"You answer the question given similar to the examples given. Always pick the best of the four options given.\"},\n",
    "            {\"role\": \"user\", \"content\": prompt},\n",
    "        ],\n",
    "        temperature=0.0,\n",
    "        stop = [\"<stop>\"]\n",
    "    )\n",
    "    return response[\"choices\"][0][\"message\"][\"content\"]"
   ]
  },
  {
   "cell_type": "code",
   "execution_count": 24,
   "metadata": {},
   "outputs": [
    {
     "name": "stdout",
     "output_type": "stream",
     "text": [
      "Correct Answer: A\n"
     ]
    }
   ],
   "source": [
    "prompt = train_prompt + test_dp_to_prompt(val[0])\n",
    "print(gen_answer_direct(prompt))"
   ]
  },
  {
   "cell_type": "code",
   "execution_count": 73,
   "metadata": {},
   "outputs": [
    {
     "name": "stdout",
     "output_type": "stream",
     "text": [
      "Argument Structure:\n",
      "Premise 1: It takes a particular talent to be a successful business manager.\n",
      "Premise 2: Business courses can help people to solve management problems, but such courses can do so only for those people with managerial talent.\n",
      "Claim: Such people should take business courses to acquire ideas that they can subsequently use to good advantage if management problems happen to arise.\n",
      "Premise 1 and Premise 2 together support the Claim.\n",
      "\n",
      "Explanation: The argument does not provide any information to support the idea that people who are helped by business courses in solving management problems also have managerial talent. Therefore, option A cannot be true.\n",
      "Correct Answer: C\n"
     ]
    }
   ],
   "source": [
    "prompt = train_prompt + test_dp_to_prompt(val[1])\n",
    "print(gen_answer_direct(prompt))"
   ]
  },
  {
   "cell_type": "code",
   "execution_count": 56,
   "metadata": {},
   "outputs": [
    {
     "name": "stdout",
     "output_type": "stream",
     "text": [
      "Argument Structure:\n",
      "Premise 1: An action is morally good if it both achieves the agent's intended goal and benefits someone other than the agent.\n",
      "Claim: The judgment that most closely conforms to the principle cited by the philosopher.\n",
      "Premise 1 supports the Claim.\n",
      "\n",
      "Explanation: Yolanda's action of taking her children to visit their grandfather both achieved her intended goal of making her children enjoy their vacation and benefited her children and grandfather. Hence, it conforms to the principle cited by the philosopher.\n",
      "Correct Answer: B\n"
     ]
    }
   ],
   "source": [
    "prompt = train_prompt + test_dp_to_prompt(val[2])\n",
    "print(gen_answer_direct(prompt))"
   ]
  },
  {
   "cell_type": "code",
   "execution_count": 32,
   "metadata": {},
   "outputs": [],
   "source": [
    "STORE_FILE_NAME = \"direct_ans_old.json\""
   ]
  },
  {
   "cell_type": "code",
   "execution_count": 33,
   "metadata": {},
   "outputs": [],
   "source": [
    "def store_in_file_json(td, label, gen_ans, ans_str):\n",
    "    with open(os.path.join(DATA_FOLDER, STORE_FILE_NAME), 'a') as f:\n",
    "        json.dump({\"id_string\": td['id_string'], \"question\": td['question'], \"label\": label, \"answer\" : ans_str, \"generated\": gen_ans}, f)\n",
    "        f.write(\"\\n\")"
   ]
  },
  {
   "cell_type": "code",
   "execution_count": 34,
   "metadata": {},
   "outputs": [],
   "source": [
    "def load_stored_preds():\n",
    "    stored_ans_json = []\n",
    "    if os.path.exists(os.path.join(DATA_FOLDER, STORE_FILE_NAME)):\n",
    "        stored_ans_json = [json.loads(line) for line in open(os.path.join(DATA_FOLDER, STORE_FILE_NAME)).readlines()]\n",
    "    return stored_ans_json"
   ]
  },
  {
   "cell_type": "code",
   "execution_count": 35,
   "metadata": {},
   "outputs": [],
   "source": [
    "def get_accuracy():\n",
    "    stored_ans_json = load_stored_preds()\n",
    "    if len(stored_ans_json) == 0:\n",
    "        return 0\n",
    "    correct = 0\n",
    "    for js in stored_ans_json:\n",
    "        if str(js['label']) == str(js['answer']):\n",
    "            correct+=1\n",
    "    \n",
    "    print(\"Correct answers: \", correct, \", Total processed: \", len(stored_ans_json))\n",
    "    return correct/len(stored_ans_json)"
   ]
  },
  {
   "cell_type": "code",
   "execution_count": 36,
   "metadata": {},
   "outputs": [],
   "source": [
    "def extract_answer_from_gen_ans(gen_ans):\n",
    "    return re.findall(r'Correct Answer: ([ABCD]).*', gen_ans)[0]"
   ]
  },
  {
   "cell_type": "code",
   "execution_count": 37,
   "metadata": {},
   "outputs": [
    {
     "name": "stdout",
     "output_type": "stream",
     "text": [
      "5\n"
     ]
    }
   ],
   "source": [
    "print(len(val[:5]))\n",
    "val_set = val"
   ]
  },
  {
   "cell_type": "code",
   "execution_count": 38,
   "metadata": {},
   "outputs": [
    {
     "name": "stdout",
     "output_type": "stream",
     "text": [
      "Correct answers:  291 , Total processed:  500\n",
      "0.582\n"
     ]
    }
   ],
   "source": [
    "start_ix = 0\n",
    "\n",
    "stored_ans_json = load_stored_preds()\n",
    "stored_ixs = [int(js['id_string'].split('_')[-1]) for js in stored_ans_json]\n",
    "# if len(stored_ans_json) > 0:\n",
    "#     start_ix = int(stored_ans_json[-1]['id_string'].split('_')[-1]) + 1\n",
    "# print(\"Starting from index\", start_ix)\n",
    "\n",
    "labels = []\n",
    "preds = []\n",
    "corrects = 0\n",
    "options = ['A', 'B', 'C', 'D']\n",
    "for td in val_set[start_ix:]:\n",
    "    ix = int(td['id_string'].split('_')[-1])\n",
    "    if ix not in stored_ixs:\n",
    "        try:\n",
    "            label = options[td['label']]\n",
    "            # print('Correct ans: ', label)\n",
    "            prompt = train_prompt + test_dp_to_prompt(td)\n",
    "            gen_ans = gen_answer_direct(prompt)\n",
    "            ans_str = extract_answer_from_gen_ans(gen_ans)\n",
    "            store_in_file_json(td, label, gen_ans, ans_str)\n",
    "            # print('Predicted ans: ', ans)\n",
    "\n",
    "            labels.append(label)\n",
    "            preds.append(ans_str)\n",
    "            if ans_str == label:\n",
    "                corrects+=1\n",
    "        except Exception as e:\n",
    "            print(e)\n",
    "            print('Error in: ', td['id_string'])\n",
    "            print(gen_ans)\n",
    "            print('\\n')\n",
    "            time.sleep(60)\n",
    "            continue\n",
    "        stored_ixs.append(ix)\n",
    "print(get_accuracy())"
   ]
  },
  {
   "cell_type": "code",
   "execution_count": null,
   "metadata": {},
   "outputs": [],
   "source": []
  }
 ],
 "metadata": {
  "kernelspec": {
   "display_name": "base",
   "language": "python",
   "name": "python3"
  },
  "language_info": {
   "codemirror_mode": {
    "name": "ipython",
    "version": 3
   },
   "file_extension": ".py",
   "mimetype": "text/x-python",
   "name": "python",
   "nbconvert_exporter": "python",
   "pygments_lexer": "ipython3",
   "version": "3.9.13"
  },
  "orig_nbformat": 4
 },
 "nbformat": 4,
 "nbformat_minor": 2
}
